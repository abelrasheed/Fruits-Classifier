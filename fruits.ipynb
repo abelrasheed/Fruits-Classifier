{
 "cells": [
  {
   "cell_type": "markdown",
   "metadata": {},
   "source": [
    "# K Nearest Neighbour algorithm\n",
    "## Submitted by : Abel Rasheed\n",
    "\n",
    "* In this notebook, i've implemented a KNN algorithm to classify the given fruits dataset\n",
    "* The algorithm is written from scratch, even though sklearn library is imported to use a few helper functions\n"
   ]
  },
  {
   "cell_type": "markdown",
   "metadata": {},
   "source": [
    "### Importing required libraries...\n",
    "* KNN is the class I wrote which instantiates a KNN object which will be our training model, which is imported from kmeans.py\n"
   ]
  },
  {
   "cell_type": "code",
   "execution_count": 105,
   "metadata": {},
   "outputs": [],
   "source": [
    "import math\n",
    "import csv\n",
    "import numpy as np\n",
    "import random\n",
    "from sklearn.preprocessing import StandardScaler,MinMaxScaler\n",
    "from sklearn.model_selection import train_test_split\n",
    "from matplotlib import pyplot as plt\n",
    "from knn import KNN,decipher"
   ]
  },
  {
   "cell_type": "markdown",
   "metadata": {},
   "source": [
    "### loading the data"
   ]
  },
  {
   "cell_type": "code",
   "execution_count": 106,
   "metadata": {},
   "outputs": [],
   "source": [
    "with open('fruits.csv' , 'r') as csv_file:\n",
    "    X = []\n",
    "    y = []\n",
    "    complete_data = []\n",
    "    csv_reader = csv.reader(csv_file) \n",
    "    for line in csv_reader:\n",
    "        complete_data.append(line)\n",
    "        temp_line = line[2:]\n",
    "        X.append(temp_line)\n",
    "        y.append(line[0])"
   ]
  },
  {
   "cell_type": "code",
   "execution_count": 107,
   "metadata": {},
   "outputs": [],
   "source": [
    "X.remove(X[0])\n",
    "y.remove(y[0])"
   ]
  },
  {
   "cell_type": "code",
   "execution_count": 108,
   "metadata": {},
   "outputs": [],
   "source": [
    "X = np.array(X).astype(float)\n",
    "y = np.array(y).astype(float)"
   ]
  },
  {
   "cell_type": "markdown",
   "metadata": {},
   "source": [
    "### Scaling the data so as to have optimum accuracy"
   ]
  },
  {
   "cell_type": "code",
   "execution_count": 109,
   "metadata": {},
   "outputs": [],
   "source": [
    "scaler = MinMaxScaler().fit(X)"
   ]
  },
  {
   "cell_type": "code",
   "execution_count": 110,
   "metadata": {},
   "outputs": [],
   "source": [
    "scaled_data  = scaler.transform(X)\n",
    "X = scaled_data"
   ]
  },
  {
   "cell_type": "markdown",
   "metadata": {},
   "source": [
    "### Test, Train splitting the data"
   ]
  },
  {
   "cell_type": "code",
   "execution_count": 111,
   "metadata": {},
   "outputs": [],
   "source": [
    "X_train, X_test, y_train, y_test = train_test_split(X, y, test_size=0.2)"
   ]
  },
  {
   "cell_type": "code",
   "execution_count": 112,
   "metadata": {},
   "outputs": [],
   "source": [
    "y_indices = [0] * 5\n",
    "for i in range(4):\n",
    "    arr = []\n",
    "    for j in range(len(y_train)):\n",
    "        if (y_train[j] == i+1):\n",
    "            arr.append(j)\n",
    "    y_indices[i+1] = arr"
   ]
  },
  {
   "cell_type": "markdown",
   "metadata": {},
   "source": [
    "### Storing values of each fruits into different arrays with each fruit's name as the name of the array"
   ]
  },
  {
   "cell_type": "code",
   "execution_count": 113,
   "metadata": {},
   "outputs": [],
   "source": [
    "apple = X_train[y_indices[1]]\n",
    "mandarain = X_train[y_indices[2]]\n",
    "orange = X_train[y_indices[3]]\n",
    "lemon = X_train[y_indices[4]]"
   ]
  },
  {
   "cell_type": "code",
   "execution_count": 114,
   "metadata": {},
   "outputs": [],
   "source": [
    "plt.style.use('seaborn')"
   ]
  },
  {
   "cell_type": "markdown",
   "metadata": {},
   "source": [
    "# Visualizing the data, using different features, plotted against each other\n",
    "\n",
    "* There are a total of 4 features in this dataset, so the model is 4 - dimensional\n",
    "* Obviously we cannot visualize a 4 dimensional graph, so what I've done is I've plotted every other feature with  each other with the help of six 2- dimensional graphs\n",
    "* The different fruits are marked with different colors."
   ]
  },
  {
   "cell_type": "markdown",
   "metadata": {},
   "source": [
    "## Mass vs Width"
   ]
  },
  {
   "cell_type": "code",
   "execution_count": 115,
   "metadata": {},
   "outputs": [
    {
     "data": {
      "text/plain": [
       "<matplotlib.legend.Legend at 0x263864993c8>"
      ]
     },
     "execution_count": 115,
     "metadata": {},
     "output_type": "execute_result"
    },
    {
     "data": {
      "image/png": "[encoded data removed]",
      "text/plain": [
       "<Figure size 576x396 with 1 Axes>"
      ]
     },
     "metadata": {},
     "output_type": "display_data"
    }
   ],
   "source": [
    "plt.scatter(apple[:,0],apple[:,1] , c='#ff7f0e',label = \"apple\")\n",
    "\n",
    "plt.scatter(mandarain[:,0],mandarain[:,1] , c='#1f77b4',label = \"mandarin\")\n",
    "\n",
    "plt.scatter(orange[:,0],orange[:,1] , c='#bcbd22',label=\"orange\")\n",
    "\n",
    "plt.scatter(lemon[:,0],lemon[:,1] , c='#800000',label = \"lemon\")\n",
    "\n",
    "plt.legend(loc=2,markerscale=0.7,fontsize=\"medium\")"
   ]
  },
  {
   "cell_type": "markdown",
   "metadata": {},
   "source": [
    "## Mass vs Height"
   ]
  },
  {
   "cell_type": "code",
   "execution_count": 116,
   "metadata": {},
   "outputs": [
    {
     "data": {
      "text/plain": [
       "<matplotlib.legend.Legend at 0x263863c4fc8>"
      ]
     },
     "execution_count": 116,
     "metadata": {},
     "output_type": "execute_result"
    },
    {
     "data": {
      "image/png": "[encoded data removed]",
      "text/plain": [
       "<Figure size 576x396 with 1 Axes>"
      ]
     },
     "metadata": {},
     "output_type": "display_data"
    }
   ],
   "source": [
    "plt.scatter(apple[:,0],apple[:,2] , c='#ff7f0e',label = \"apple\")\n",
    "\n",
    "plt.scatter(mandarain[:,0],mandarain[:,2] , c='#1f77b4',label = \"mandarin\")\n",
    "\n",
    "plt.scatter(orange[:,0],orange[:,2] , c='#bcbd22',label=\"orange\")\n",
    "\n",
    "plt.scatter(lemon[:,0],lemon[:,2] , c='#800000',label = \"lemon\")\n",
    "\n",
    "plt.legend(loc=2,markerscale=0.7,fontsize=\"medium\")"
   ]
  },
  {
   "cell_type": "markdown",
   "metadata": {},
   "source": [
    "## Mass vs Color Score"
   ]
  },
  {
   "cell_type": "code",
   "execution_count": 117,
   "metadata": {
    "scrolled": true
   },
   "outputs": [
    {
     "data": {
      "text/plain": [
       "<matplotlib.legend.Legend at 0x26386543bc8>"
      ]
     },
     "execution_count": 117,
     "metadata": {},
     "output_type": "execute_result"
    },
    {
     "data": {
      "image/png": "[encoded data removed]",
      "text/plain": [
       "<Figure size 576x396 with 1 Axes>"
      ]
     },
     "metadata": {},
     "output_type": "display_data"
    }
   ],
   "source": [
    "plt.scatter(apple[:,0],apple[:,3] , c='#ff7f0e',label = \"apple\")\n",
    "\n",
    "plt.scatter(mandarain[:,0],mandarain[:,3] , c='#1f77b4',label = \"mandarin\")\n",
    "\n",
    "plt.scatter(orange[:,0],orange[:,3] , c='#bcbd22',label=\"orange\")\n",
    "\n",
    "plt.scatter(lemon[:,0],lemon[:,3] , c='#800000',label = \"lemon\")\n",
    "\n",
    "plt.legend(loc=2,markerscale=0.7,fontsize=\"medium\")"
   ]
  },
  {
   "cell_type": "markdown",
   "metadata": {},
   "source": [
    "## Width vs Height"
   ]
  },
  {
   "cell_type": "code",
   "execution_count": 118,
   "metadata": {},
   "outputs": [
    {
     "data": {
      "text/plain": [
       "<matplotlib.legend.Legend at 0x263865f3388>"
      ]
     },
     "execution_count": 118,
     "metadata": {},
     "output_type": "execute_result"
    },
    {
     "data": {
      "image/png": "[encoded data removed]",
      "text/plain": [
       "<Figure size 576x396 with 1 Axes>"
      ]
     },
     "metadata": {},
     "output_type": "display_data"
    }
   ],
   "source": [
    "plt.scatter(apple[:,1],apple[:,2] , c='#ff7f0e',label = \"apple\")\n",
    "\n",
    "plt.scatter(mandarain[:,1],mandarain[:,2] , c='#1f77b4',label = \"mandarin\")\n",
    "\n",
    "plt.scatter(orange[:,1],orange[:,2] , c='#bcbd22',label=\"orange\")\n",
    "\n",
    "plt.scatter(lemon[:,1],lemon[:,2] , c='#800000',label = \"lemon\")\n",
    "\n",
    "plt.legend(loc=2,markerscale=0.7,fontsize=\"medium\")"
   ]
  },
  {
   "cell_type": "markdown",
   "metadata": {},
   "source": [
    "## Width vs Color Score"
   ]
  },
  {
   "cell_type": "code",
   "execution_count": 119,
   "metadata": {
    "scrolled": true
   },
   "outputs": [
    {
     "data": {
      "text/plain": [
       "<matplotlib.legend.Legend at 0x26386703b48>"
      ]
     },
     "execution_count": 119,
     "metadata": {},
     "output_type": "execute_result"
    },
    {
     "data": {
      "image/png": "[encoded data removed]",
      "text/plain": [
       "<Figure size 576x396 with 1 Axes>"
      ]
     },
     "metadata": {},
     "output_type": "display_data"
    }
   ],
   "source": [
    "plt.scatter(apple[:,1],apple[:,3] , c='#ff7f0e',label = \"apple\")\n",
    "\n",
    "plt.scatter(mandarain[:,1],mandarain[:,3] , c='#1f77b4',label = \"mandarin\")\n",
    "\n",
    "plt.scatter(orange[:,1],orange[:,3] , c='#bcbd22',label=\"orange\")\n",
    "\n",
    "plt.scatter(lemon[:,1],lemon[:,3] , c='#800000',label = \"lemon\")\n",
    "\n",
    "plt.legend(loc=2,markerscale=0.7,fontsize=\"medium\")"
   ]
  },
  {
   "cell_type": "markdown",
   "metadata": {},
   "source": [
    "## Height vs Color Score"
   ]
  },
  {
   "cell_type": "code",
   "execution_count": 120,
   "metadata": {},
   "outputs": [
    {
     "data": {
      "text/plain": [
       "<matplotlib.legend.Legend at 0x26386793f48>"
      ]
     },
     "execution_count": 120,
     "metadata": {},
     "output_type": "execute_result"
    },
    {
     "data": {
      "image/png": "[encoded data removed]",
      "text/plain": [
       "<Figure size 576x396 with 1 Axes>"
      ]
     },
     "metadata": {},
     "output_type": "display_data"
    }
   ],
   "source": [
    "plt.scatter(apple[:,2],apple[:,3] , c='#ff7f0e',label = \"apple\")\n",
    "\n",
    "plt.scatter(mandarain[:,2],mandarain[:,3] , c='#1f77b4',label = \"mandarin\")\n",
    "\n",
    "plt.scatter(orange[:,2],orange[:,3] , c='#bcbd22',label=\"orange\")\n",
    "\n",
    "plt.scatter(lemon[:,2],lemon[:,3] , c='#800000',label = \"lemon\")\n",
    "\n",
    "plt.legend(loc=2,markerscale=0.7,fontsize=\"medium\")"
   ]
  },
  {
   "cell_type": "markdown",
   "metadata": {},
   "source": [
    "# Instantiating the KNN object"
   ]
  },
  {
   "cell_type": "code",
   "execution_count": 121,
   "metadata": {
    "scrolled": false
   },
   "outputs": [],
   "source": [
    "clf = KNN(k=3)"
   ]
  },
  {
   "cell_type": "markdown",
   "metadata": {},
   "source": [
    "## Training the KNN object with the features, height and color score"
   ]
  },
  {
   "cell_type": "code",
   "execution_count": 122,
   "metadata": {},
   "outputs": [],
   "source": [
    "X_train1 = X_train[:,[2,3]]\n",
    "X_test1 = X_test[:,[2,3]]"
   ]
  },
  {
   "cell_type": "code",
   "execution_count": 123,
   "metadata": {},
   "outputs": [],
   "source": [
    "clf.fit(X_train1,y_train)"
   ]
  },
  {
   "cell_type": "markdown",
   "metadata": {},
   "source": [
    "## Predicting wrt test dataset"
   ]
  },
  {
   "cell_type": "code",
   "execution_count": 124,
   "metadata": {},
   "outputs": [],
   "source": [
    "predicted = clf.predict(X_test1)"
   ]
  },
  {
   "cell_type": "code",
   "execution_count": 126,
   "metadata": {},
   "outputs": [
    {
     "data": {
      "text/plain": [
       "1.0"
      ]
     },
     "execution_count": 126,
     "metadata": {},
     "output_type": "execute_result"
    }
   ],
   "source": [
    "accuracy = np.sum(y_test == predicted) / len(y_test)\n",
    "accuracy"
   ]
  },
  {
   "cell_type": "markdown",
   "metadata": {},
   "source": [
    "## The above number is the accuracy of the algorithm with k = 3, multiplying it with 100 gives the accuracy in %"
   ]
  },
  {
   "cell_type": "markdown",
   "metadata": {},
   "source": [
    "## Lets take some random entries from the data, to see the classifier in action.\n"
   ]
  },
  {
   "cell_type": "markdown",
   "metadata": {},
   "source": [
    "### For this, i will be using the help of the fruit arrays, ie apple,mandarin, etc, since the array contains the data of one particular fruit only, and then ill plug that data into the classifier and see the prediction in action. I  will be using a decipher function from knn module, that will return the name of the fruit, from the id"
   ]
  },
  {
   "cell_type": "markdown",
   "metadata": {},
   "source": [
    "### TestCase 1:"
   ]
  },
  {
   "cell_type": "code",
   "execution_count": 127,
   "metadata": {},
   "outputs": [],
   "source": [
    "testcase = [orange[3][2:4]]\n",
    "testcase = np.array(testcase)"
   ]
  },
  {
   "cell_type": "code",
   "execution_count": 128,
   "metadata": {},
   "outputs": [
    {
     "data": {
      "text/plain": [
       "['Orange']"
      ]
     },
     "execution_count": 128,
     "metadata": {},
     "output_type": "execute_result"
    }
   ],
   "source": [
    "decipher(clf.predict(testcase))"
   ]
  },
  {
   "cell_type": "markdown",
   "metadata": {},
   "source": [
    "### TestCase 2:"
   ]
  },
  {
   "cell_type": "code",
   "execution_count": 129,
   "metadata": {},
   "outputs": [],
   "source": [
    "testcase  = [mandarain[2][2:4]]\n",
    "testcase = np.array(testcase)"
   ]
  },
  {
   "cell_type": "code",
   "execution_count": 130,
   "metadata": {},
   "outputs": [
    {
     "data": {
      "text/plain": [
       "['Mandarin']"
      ]
     },
     "execution_count": 130,
     "metadata": {},
     "output_type": "execute_result"
    }
   ],
   "source": [
    "decipher(clf.predict(testcase))"
   ]
  },
  {
   "cell_type": "markdown",
   "metadata": {},
   "source": [
    "### TestCase 3:"
   ]
  },
  {
   "cell_type": "code",
   "execution_count": 131,
   "metadata": {},
   "outputs": [],
   "source": [
    "testcase  = [lemon[3][2:4]]\n",
    "testcase = np.array(testcase)"
   ]
  },
  {
   "cell_type": "code",
   "execution_count": 132,
   "metadata": {},
   "outputs": [
    {
     "data": {
      "text/plain": [
       "['Lemon']"
      ]
     },
     "execution_count": 132,
     "metadata": {},
     "output_type": "execute_result"
    }
   ],
   "source": [
    "decipher(clf.predict(testcase))"
   ]
  },
  {
   "cell_type": "code",
   "execution_count": null,
   "metadata": {},
   "outputs": [],
   "source": []
  }
 ],
 "metadata": {
  "kernelspec": {
   "display_name": "Python 3",
   "language": "python",
   "name": "python3"
  },
  "language_info": {
   "codemirror_mode": {
    "name": "ipython",
    "version": 3
   },
   "file_extension": ".py",
   "mimetype": "text/x-python",
   "name": "python",
   "nbconvert_exporter": "python",
   "pygments_lexer": "ipython3",
   "version": "3.7.9"
  }
 },
 "nbformat": 4,
 "nbformat_minor": 4
}